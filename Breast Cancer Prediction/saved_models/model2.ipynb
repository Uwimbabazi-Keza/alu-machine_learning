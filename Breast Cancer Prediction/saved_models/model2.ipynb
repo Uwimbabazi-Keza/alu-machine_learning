{
  "nbformat": 4,
  "nbformat_minor": 0,
  "metadata": {
    "colab": {
      "provenance": []
    },
    "kernelspec": {
      "name": "python3",
      "display_name": "Python 3"
    },
    "language_info": {
      "name": "python"
    }
  },
  "cells": [
    {
      "cell_type": "code",
      "source": [
        "import numpy as np\n",
        "import pandas as pd\n",
        "import seaborn as sns\n",
        "from matplotlib import pyplot as plt\n",
        "import tensorflow as tf\n",
        "df = pd.read_csv('data.csv')\n",
        "df=df.dropna(axis=1)"
      ],
      "metadata": {
        "id": "1xGaNr1gWqtN"
      },
      "execution_count": null,
      "outputs": []
    },
    {
      "cell_type": "code",
      "execution_count": null,
      "metadata": {
        "id": "ixUnaH1WWbWh"
      },
      "outputs": [],
      "source": [
        "y = df[\"diagnosis\"].values\n",
        "from sklearn.preprocessing import LabelEncoder\n",
        "lb = LabelEncoder()\n",
        "y = lb.fit_transform(y)"
      ]
    },
    {
      "cell_type": "code",
      "source": [
        "x = df.drop(labels = [\"diagnosis\", \"id\"], axis=1)\n",
        "\n",
        "#scale\n",
        "from sklearn.preprocessing import MinMaxScaler\n",
        "s = MinMaxScaler()\n",
        "s.fit(x)\n",
        "x = s.transform(x)"
      ],
      "metadata": {
        "id": "2YrefFouW0Pc"
      },
      "execution_count": null,
      "outputs": []
    },
    {
      "cell_type": "code",
      "source": [
        "from sklearn.model_selection import train_test_split\n",
        "x_train, x_test, y_train, y_test = train_test_split(x, y, test_size=0.25, random_state=42)"
      ],
      "metadata": {
        "id": "imG5siD5W2_S"
      },
      "execution_count": null,
      "outputs": []
    },
    {
      "cell_type": "code",
      "source": [
        "from keras.models import Sequential\n",
        "from keras.layers import Dense, Activation\n",
        "from keras.regularizers import l1, l2\n",
        "from keras.optimizers import Adam\n",
        "\n",
        "model_2 = Sequential()\n",
        "model_2.add(Dense(16, input_dim=30, activation='relu', kernel_regularizer=l1(0.01)))\n",
        "model_2.add(Dense(16, activation='relu', kernel_regularizer=l2(0.01)))\n",
        "model_2.add(Dense(1))\n",
        "model_2.add(Activation(\"sigmoid\"))\n",
        "model_2.compile(optimizer=Adam(), loss=\"binary_crossentropy\", metrics=[\"accuracy\"])\n",
        "print(model_2.summary())"
      ],
      "metadata": {
        "id": "WmmSFcxaW7Aj"
      },
      "execution_count": null,
      "outputs": []
    },
    {
      "cell_type": "code",
      "source": [
        "history_2 = model_2.fit(x_train, y_train, verbose=1, epochs=100, batch_size=64, validation_data=(x_test, y_test))"
      ],
      "metadata": {
        "id": "levAAhejW-Cc"
      },
      "execution_count": null,
      "outputs": []
    }
  ]
}